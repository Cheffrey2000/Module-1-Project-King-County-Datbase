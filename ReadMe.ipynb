{
 "cells": [
  {
   "cell_type": "markdown",
   "metadata": {
    "ExecuteTime": {
     "end_time": "2019-11-15T21:59:09.748577Z",
     "start_time": "2019-11-15T21:59:09.739603Z"
    }
   },
   "source": [
    "\n",
    "# Module 1 Final Project\n",
    "You can view my slide show here [Slide Show](https://docs.google.com/presentation/d/1ITFa71krhKkX4C8HIySYpUEuFkMvZifwNCHB182ttTc/edit?usp=sharing)\n",
    "\n",
    "\n",
    "## Introduction\n",
    "\n",
    "An analysis of the housing data from King county Washington.  This data set includes house sales in the county between May 2014 and May 2015.\n",
    "\n",
    "## Goals\n",
    "We are attempting to help realtors select profitable properties for their clients such as:\n",
    "* New home buyers\n",
    "* Families Relocating\n",
    "* Investors looking for short term or long term investments\n",
    "* Contractors looking to buy land and build\n",
    "\n",
    "\n",
    "## The Dataset\n",
    "\n",
    "The dataset consists of home sales from May 2014 through May 2015.  \n",
    "The information provided for each home consists of the following categories:  \n",
    "- **Price** - This is our target  \n",
    "- **ID** - This is a unique identifier for each House in the dataset  \n",
    "- **Date** - This is the date of sale  \n",
    "- **Bedrooms** - This is the number of bedrooms in the house  \n",
    "- **Bathrooms** - This is the number of bathrooms in the house  \n",
    "- **Sqft_living** - This is the number of square feet in the living space  \n",
    "- **Sqft_lot** - This is the number of square feet in the total lot area  \n",
    "- **Floors** - This is the number of levels in the house  \n",
    "- **Waterfront** - This denotes whether or not the property is on the water  \n",
    "- **View** - This identifies how many times the house was viewed  \n",
    "- **Condition** - This tells the condition of the house from 1 (worn out) to 5 (excellent)  \n",
    "- **Grade** - The grade of the house based on the King County grading system of 1(poor) to 13(excellent)  \n",
    "- **Sqft_above** - Total square feet without basement  \n",
    "- **Sqft_basement** - Square footage of the basement alone  \n",
    "- **Yr_built** - The year the house was originally built  \n",
    "- **Yr_renovated** - The year the house was renovated if it has been  \n",
    "- **Zipcode** - The zip code of the house  \n",
    "- **Lat** - The latitude location of the house  \n",
    "- **Long** - The longitude location of the house  \n",
    "- **Sqft_living15** - The square footage of the home in the year 2015  \n",
    "- **Sqft_lot15** - The square footage of the lot in 2015  \n"
   ]
  },
  {
   "cell_type": "markdown",
   "metadata": {},
   "source": [
    "## Preparing the Data\n",
    "To begin, we loaded the data set and took a look at it using visualizations like Seaborn's Pairplot.\n",
    "Here is a summary of our observations:\n",
    "\n",
    "- __*id*__ is simply an identifier<br>\n",
    "    This will be removed as it is not pertinent to the data analysis.<br>\n",
    "- __*date*__ is a string.<br>\n",
    "    Our initial impression is that it reflects sale dates for the property.<br>\n",
    "    This should be converted to a numerical value for processing.<br>\n",
    "- There are two columns related to the size, __*sqft_living and sqft_lot*__ <br>\n",
    "    We will explore their relationship and determine if they are dependent on each other or not<br>\n",
    "- __*floors*__ is a numerical value.<br>\n",
    "    Based on our knowledge of houses we believe this may be better suited to a categorical value.<br>\n",
    "    We will explore the data and convert it to either a single or multiple<br> \n",
    "    or decide if each value of floors needs it's own category.<br>\n",
    "- __*waterfront*__ is definitely categorical sine a home can only be either on or off the water.<br>\n",
    "    We will convert this to a binary value to represent either on or off the water.<br>\n",
    "- __*sqft_basement*__ <br>\n",
    "    This along with __*sqft_above*__ combined are the same as __*sqft_living*__ so we will deal with it<br>\n",
    "    since the presence of a basement is more significant than the size.<br>\n",
    "    'sqft_basement will then be converted to categories which will identify the presence of a basement<br>\n",
    "- __*zipcode*__ and __*lat*__ and __*long*__ are both location data.<br>\n",
    "    We will determine if all are necessary and treat them accordingly<br>\n",
    "- __*yr_renovated*__ has many null values so they will be used to create a new feature.<br>\n",
    "    we will subtract it from the last date in the database and create __*ren_period*__"
   ]
  },
  {
   "cell_type": "markdown",
   "metadata": {},
   "source": [
    "### Initial EDA\n",
    "After cleaning the data, we took another look at it and found that there were some outliers.  \n",
    "The outliers were:\n",
    "- __*bathrooms*__ above 10\n",
    "- __*bedrooms*__ above 10\n",
    "- __*sqft_living*__ above 10000\n",
    "- __*grade*__ of 13 which is a top of the line custom home.  \n",
    "- __*sqft_lot*__ above 750000\n",
    "\n",
    "They were then dropped from the working data"
   ]
  },
  {
   "cell_type": "markdown",
   "metadata": {},
   "source": [
    "### Multicolinearity  \n",
    "\n",
    "There were a few features that were multicolinear so we engineered some features to combine those.\n",
    "- __*bathrooms*__ and __*grade*__ are colinear, so we will create a new feature combining the  \n",
    "two into one feature, __*grade_bathroom*__.\n",
    "- __*sqft_living*__ and __*grade*__ have a high correlation so those were engineered into  \n",
    "     a feature called __*sqft_living_bedrooms*__"
   ]
  },
  {
   "cell_type": "markdown",
   "metadata": {},
   "source": [
    "After feature engineering and running a few test models, we settled on the following features:\n",
    "- sqft_lot\n",
    "- waterfront\n",
    "- condition\n",
    "- sqft_basement\n",
    "- ren_period\n",
    "- sqft_living_bedrooms\n",
    "- grade_bathroom\n"
   ]
  },
  {
   "cell_type": "markdown",
   "metadata": {},
   "source": [
    "Using these features, we ran the model with a few different combinations and found some multicolinearity.  \n",
    "We settled on:\n",
    "- 'sqft_living_bedrooms'\n",
    "- 'condition'\n",
    "- 'lat'\n",
    "Our R-squared is at .63 so this is a pretty good model  \n",
    "and our mean squared error is .09 so it is pretty accurate. "
   ]
  },
  {
   "cell_type": "markdown",
   "metadata": {},
   "source": [
    "### Conclusion\n",
    "Price is affected mainly by 'sqft_living_bedrooms' 'lat' and 'condition'"
   ]
  }
 ],
 "metadata": {
  "kernelspec": {
   "display_name": "Python [conda env:learn-env] *",
   "language": "python",
   "name": "conda-env-learn-env-py"
  },
  "language_info": {
   "codemirror_mode": {
    "name": "ipython",
    "version": 3
   },
   "file_extension": ".py",
   "mimetype": "text/x-python",
   "name": "python",
   "nbconvert_exporter": "python",
   "pygments_lexer": "ipython3",
   "version": "3.6.6"
  },
  "toc": {
   "base_numbering": 1,
   "nav_menu": {},
   "number_sections": false,
   "sideBar": true,
   "skip_h1_title": false,
   "title_cell": "Table of Contents",
   "title_sidebar": "Contents",
   "toc_cell": false,
   "toc_position": {},
   "toc_section_display": true,
   "toc_window_display": false
  },
  "varInspector": {
   "cols": {
    "lenName": 16,
    "lenType": 16,
    "lenVar": 40
   },
   "kernels_config": {
    "python": {
     "delete_cmd_postfix": "",
     "delete_cmd_prefix": "del ",
     "library": "var_list.py",
     "varRefreshCmd": "print(var_dic_list())"
    },
    "r": {
     "delete_cmd_postfix": ") ",
     "delete_cmd_prefix": "rm(",
     "library": "var_list.r",
     "varRefreshCmd": "cat(var_dic_list()) "
    }
   },
   "types_to_exclude": [
    "module",
    "function",
    "builtin_function_or_method",
    "instance",
    "_Feature"
   ],
   "window_display": false
  }
 },
 "nbformat": 4,
 "nbformat_minor": 2
}
